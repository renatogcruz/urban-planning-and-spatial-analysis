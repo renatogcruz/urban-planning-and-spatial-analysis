{
 "cells": [
  {
   "cell_type": "markdown",
   "metadata": {},
   "source": [
    "# City street network orientations\n",
    "\n",
    "Author: [Geoff Boeing](https://geoffboeing.com/)\n",
    "\n",
    "Compare the spatial orientations of city street networks with OSMnx.\n",
    "\n",
    "  - [Overview of OSMnx](http://geoffboeing.com/2016/11/osmnx-python-street-networks/)\n",
    "  - [GitHub repo](https://github.com/gboeing/osmnx)\n",
    "  - [Examples, demos, tutorials](https://github.com/gboeing/osmnx-examples)\n",
    "  - [Documentation](https://osmnx.readthedocs.io/en/stable/)\n",
    "  - [Journal article/citation](http://geoffboeing.com/publications/osmnx-complex-street-networks/)"
   ]
  },
  {
   "cell_type": "code",
   "execution_count": null,
   "metadata": {},
   "outputs": [],
   "source": [
    "import datetime\n",
    "import matplotlib.pyplot as plt\n",
    "import numpy as np\n",
    "import osmnx as ox\n",
    "import pandas as pd\n",
    "%matplotlib inline\n",
    "ox.config(log_console=True)\n",
    "weight_by_length = False\n",
    "\n",
    "ox.__version__"
   ]
  },
  {
   "cell_type": "code",
   "execution_count": null,
   "metadata": {},
   "outputs": [],
   "source": [
    "# define the study sites as label : query\n",
    "places = {#'Atlanta'       : 'Atlanta, Georgia, USA',\n",
    "          #'Boston'        : 'Boston, MA, USA',\n",
    "           'Buffalo'       : 'Buffalo, NY, USA',\n",
    "          #'Charlotte'     : 'Charlotte, NC, USA',\n",
    "          #'Chicago'       : 'Chicago, IL, USA',\n",
    "           'Cleveland'     : 'Cleveland, OH, USA',\n",
    "          #'Dallas'        : 'Dallas, TX, USA',\n",
    "          #'Houston'       : 'Houston, TX, USA',\n",
    "          #'Denver'        : 'Denver, CO, USA',\n",
    "          #'Detroit'       : 'Detroit, MI, USA',\n",
    "          #'Las Vegas'     : 'Las Vegas, NV, USA',\n",
    "          #'Los Angeles'   : {'city':'Los Angeles', 'state':'CA', 'country':'USA'},\n",
    "          #'Manhattan'     : 'Manhattan, NYC, NY, USA',\n",
    "           'Miami'         : 'Miami, FL, USA',\n",
    "           'Minneapolis'   : 'Minneapolis, MN, USA',\n",
    "          #'Orlando'       : 'Orlando, FL, USA',\n",
    "          #'Philadelphia'  : 'Philadelphia, PA, USA',\n",
    "          #'Phoenix'       : 'Phoenix, AZ, USA',\n",
    "          #'Portland'      : 'Portland, OR, USA',\n",
    "          #'Sacramento'    : 'Sacramento, CA, USA',\n",
    "           'San Francisco' : {'city':'San Francisco', 'state':'CA', 'country':'USA'},\n",
    "          #'Seattle'       : 'Seattle, WA, USA',\n",
    "          #'St Louis'      : 'St. Louis, MO, USA',\n",
    "          #'Tampa'         : 'Tampa, FL, USA',\n",
    "           'Washington'    : 'District of Columbia, USA'}"
   ]
  },
  {
   "cell_type": "code",
   "execution_count": null,
   "metadata": {},
   "outputs": [],
   "source": [
    "# verify OSMnx geocodes each query to what you expect (i.e., a [multi]polygon geometry)\n",
    "gdf = ox.geocode_to_gdf(list(places.values()))\n",
    "gdf"
   ]
  },
  {
   "cell_type": "markdown",
   "metadata": {},
   "source": [
    "## Get the street networks and their edge bearings"
   ]
  },
  {
   "cell_type": "code",
   "execution_count": null,
   "metadata": {},
   "outputs": [],
   "source": [
    "def reverse_bearing(x):\n",
    "    return x + 180 if x < 180 else x - 180"
   ]
  },
  {
   "cell_type": "code",
   "execution_count": null,
   "metadata": {},
   "outputs": [],
   "source": [
    "bearings = {}\n",
    "for place in sorted(places.keys()):\n",
    "    print(datetime.datetime.now(), place)\n",
    "    \n",
    "    # get the graph\n",
    "    query = places[place]\n",
    "    G = ox.graph_from_place(query, network_type='drive')\n",
    "    \n",
    "    # calculate edge bearings\n",
    "    Gu = ox.add_edge_bearings(ox.get_undirected(G))\n",
    "    \n",
    "    if weight_by_length:\n",
    "        # weight bearings by length (meters)\n",
    "        city_bearings = []\n",
    "        for u, v, k, d in Gu.edges(keys=True, data=True):\n",
    "            city_bearings.extend([d['bearing']] * int(d['length']))\n",
    "        b = pd.Series(city_bearings)\n",
    "        bearings[place] = pd.concat([b, b.map(reverse_bearing)]).reset_index(drop='True')\n",
    "    else:\n",
    "        # don't weight bearings, just take one value per street segment\n",
    "        b = pd.Series([d['bearing'] for u, v, k, d in Gu.edges(keys=True, data=True)])\n",
    "        bearings[place] = pd.concat([b, b.map(reverse_bearing)]).reset_index(drop='True')"
   ]
  },
  {
   "cell_type": "markdown",
   "metadata": {},
   "source": [
    "## Visualize it"
   ]
  },
  {
   "cell_type": "code",
   "execution_count": null,
   "metadata": {},
   "outputs": [],
   "source": [
    "def count_and_merge(n, bearings):\n",
    "    # make twice as many bins as desired, then merge them in pairs\n",
    "    # prevents bin-edge effects around common values like 0° and 90°\n",
    "    n = n * 2\n",
    "    bins = np.arange(n + 1) * 360 / n\n",
    "    count, _ = np.histogram(bearings, bins=bins)\n",
    "    \n",
    "    # move the last bin to the front, so eg 0.01° and 359.99° will be binned together\n",
    "    count = np.roll(count, 1)\n",
    "    return count[::2] + count[1::2]"
   ]
  },
  {
   "cell_type": "code",
   "execution_count": null,
   "metadata": {},
   "outputs": [],
   "source": [
    "# function to draw a polar histogram for a set of edge bearings\n",
    "def polar_plot(ax, bearings, n=36, title=''):\n",
    "\n",
    "    bins = np.arange(n + 1) * 360 / n\n",
    "    count = count_and_merge(n, bearings)\n",
    "    _, division = np.histogram(bearings, bins=bins)\n",
    "    frequency = count / count.sum()\n",
    "    division = division[0:-1]\n",
    "    width =  2 * np.pi / n\n",
    "\n",
    "    ax.set_theta_zero_location('N')\n",
    "    ax.set_theta_direction('clockwise')\n",
    "\n",
    "    x = division * np.pi / 180\n",
    "    bars = ax.bar(x, height=frequency, width=width, align='center', bottom=0, zorder=2,\n",
    "                  color='#003366', edgecolor='k', linewidth=0.5, alpha=0.7)\n",
    "    \n",
    "    ax.set_ylim(top=frequency.max())\n",
    "    \n",
    "    title_font = {'family':'DejaVu Sans', 'size':24, 'weight':'bold'}\n",
    "    xtick_font = {'family':'DejaVu Sans', 'size':10, 'weight':'bold', 'alpha':1.0, 'zorder':3}\n",
    "    ytick_font = {'family':'DejaVu Sans', 'size': 9, 'weight':'bold', 'alpha':0.2, 'zorder':3}\n",
    "    \n",
    "    ax.set_title(title.upper(), y=1.05, fontdict=title_font)\n",
    "    \n",
    "    ax.set_yticks(np.linspace(0, max(ax.get_ylim()), 5))\n",
    "    yticklabels = ['{:.2f}'.format(y) for y in ax.get_yticks()]\n",
    "    yticklabels[0] = ''\n",
    "    ax.set_yticklabels(labels=yticklabels, fontdict=ytick_font)\n",
    "    \n",
    "    xticklabels = ['N', '', 'E', '', 'S', '', 'W', '']\n",
    "    ax.set_xticks(ax.get_xticks())\n",
    "    ax.set_xticklabels(labels=xticklabels, fontdict=xtick_font)\n",
    "    ax.tick_params(axis='x', which='major', pad=-2)"
   ]
  },
  {
   "cell_type": "code",
   "execution_count": null,
   "metadata": {},
   "outputs": [],
   "source": [
    "# create figure and axes\n",
    "n = len(places)\n",
    "ncols = int(np.ceil(np.sqrt(n)))\n",
    "nrows = int(np.ceil(n / ncols))\n",
    "figsize = (ncols * 5, nrows * 5)\n",
    "fig, axes = plt.subplots(nrows, ncols, figsize=figsize, subplot_kw={'projection':'polar'})\n",
    "\n",
    "# plot each city's polar histogram\n",
    "for ax, place in zip(axes.flat, sorted(places.keys())):\n",
    "    polar_plot(ax, bearings[place].dropna(), title=place)\n",
    "\n",
    "# add super title and save full image\n",
    "suptitle_font = {'family':'DejaVu Sans', 'fontsize':60, 'fontweight':'normal', 'y':1.07}\n",
    "fig.suptitle('City Street Network Orientation', **suptitle_font)\n",
    "fig.tight_layout()\n",
    "fig.subplots_adjust(hspace=0.35)\n",
    "fig.savefig('images/street-orientations.png', dpi=120, bbox_inches='tight')\n",
    "plt.close()"
   ]
  },
  {
   "cell_type": "code",
   "execution_count": null,
   "metadata": {},
   "outputs": [],
   "source": []
  }
 ],
 "metadata": {
  "kernelspec": {
   "display_name": "Python (ox)",
   "language": "python",
   "name": "ox"
  },
  "language_info": {
   "codemirror_mode": {
    "name": "ipython",
    "version": 3
   },
   "file_extension": ".py",
   "mimetype": "text/x-python",
   "name": "python",
   "nbconvert_exporter": "python",
   "pygments_lexer": "ipython3",
   "version": "3.9.1"
  }
 },
 "nbformat": 4,
 "nbformat_minor": 4
}
