{
 "cells": [
  {
   "cell_type": "markdown",
   "metadata": {},
   "source": [
    "# Routing, speed imputation, and travel times\n",
    "\n",
    "Author: [Geoff Boeing](https://geoffboeing.com/)\n",
    "\n",
    "  - [Overview of OSMnx](http://geoffboeing.com/2016/11/osmnx-python-street-networks/)\n",
    "  - [GitHub repo](https://github.com/gboeing/osmnx)\n",
    "  - [Examples, demos, tutorials](https://github.com/gboeing/osmnx-examples)\n",
    "  - [Documentation](https://osmnx.readthedocs.io/en/stable/)\n",
    "  - [Journal article/citation](http://geoffboeing.com/publications/osmnx-complex-street-networks/)"
   ]
  },
  {
   "cell_type": "code",
   "execution_count": null,
   "metadata": {},
   "outputs": [],
   "source": [
    "import multiprocessing as mp\n",
    "import numpy as np\n",
    "import osmnx as ox\n",
    "%matplotlib inline\n",
    "ox.config(log_console=True)\n",
    "ox.__version__"
   ]
  },
  {
   "cell_type": "code",
   "execution_count": null,
   "metadata": {},
   "outputs": [],
   "source": [
    "place = 'Piedmont, California, USA'\n",
    "G = ox.graph_from_place(place, network_type='drive')"
   ]
  },
  {
   "cell_type": "markdown",
   "metadata": {},
   "source": [
    "## 1. Fast nearest node/edge search with OSMnx"
   ]
  },
  {
   "cell_type": "code",
   "execution_count": null,
   "metadata": {},
   "outputs": [],
   "source": [
    "# convert projected graph to edges geodataframe\n",
    "gdf_edges = ox.graph_to_gdfs(ox.project_graph(G), nodes=False)\n",
    "\n",
    "# list of lats and lngs\n",
    "lngs = gdf_edges.head().centroid.map(lambda x: x.coords[0][0])\n",
    "lats = gdf_edges.head().centroid.map(lambda x: x.coords[0][1])\n",
    "\n",
    "# the lat/lng at the center of the graph\n",
    "lng, lat = gdf_edges.unary_union.centroid.coords[0]\n",
    "center_point = lat, lng"
   ]
  },
  {
   "cell_type": "code",
   "execution_count": null,
   "metadata": {},
   "outputs": [],
   "source": [
    "# find the nearest node to some point\n",
    "center_node = ox.get_nearest_node(G, center_point)"
   ]
  },
  {
   "cell_type": "code",
   "execution_count": null,
   "metadata": {},
   "outputs": [],
   "source": [
    "# find the nearest nodes to a set of points\n",
    "# optionally specify `method` to use a kdtree or balltree index\n",
    "nearest_nodes = ox.get_nearest_nodes(G, lngs, lats, method='kdtree')"
   ]
  },
  {
   "cell_type": "code",
   "execution_count": null,
   "metadata": {},
   "outputs": [],
   "source": [
    "# find the nearest edge to some point\n",
    "nearest_edge = ox.get_nearest_edge(G, center_point)"
   ]
  },
  {
   "cell_type": "code",
   "execution_count": null,
   "metadata": {},
   "outputs": [],
   "source": [
    "# find the nearest edges to some set of points\n",
    "# optionally specify `method` to use a kdtree or balltree index\n",
    "nearest_edges = ox.get_nearest_edges(G, lngs, lats)"
   ]
  },
  {
   "cell_type": "markdown",
   "metadata": {},
   "source": [
    "## 2. Basic routing by distance\n",
    "\n",
    "Pick two nodes. Then find the shortest path between origin and destination, using weight='length' to find the shortest path by minimizing distance traveled (otherwise it treats each edge as weight=1)."
   ]
  },
  {
   "cell_type": "code",
   "execution_count": null,
   "metadata": {},
   "outputs": [],
   "source": [
    "# find the shortest path (by distance) between these nodes then plot it\n",
    "orig = list(G)[0]\n",
    "dest = list(G)[120]\n",
    "route = ox.shortest_path(G, orig, dest, weight='length')\n",
    "fig, ax = ox.plot_graph_route(G, route, route_color='y', route_linewidth=6, node_size=0)"
   ]
  },
  {
   "cell_type": "markdown",
   "metadata": {},
   "source": [
    "Or get *k* shortest paths, weighted by some attribute:"
   ]
  },
  {
   "cell_type": "code",
   "execution_count": null,
   "metadata": {},
   "outputs": [],
   "source": [
    "routes = ox.k_shortest_paths(G, orig, dest, k=30, weight='length')\n",
    "fig, ax = ox.plot_graph_routes(G, list(routes), route_colors='y', route_linewidth=4, node_size=0)"
   ]
  },
  {
   "cell_type": "markdown",
   "metadata": {},
   "source": [
    "## 3. Imputing travel speeds and times\n",
    "\n",
    "The `add_edge_speeds` function add edge speeds (km per hour) to graph as new `speed_kph` edge attributes. Imputes free-flow travel speeds for all edges based on mean `maxspeed` value of edges, per highway type. This mean-imputation can obviously be imprecise, and the caller can override it by passing in `hwy_speeds` and/or `fallback` arguments that correspond to local speed limit standards. See docstring for details."
   ]
  },
  {
   "cell_type": "code",
   "execution_count": null,
   "metadata": {},
   "outputs": [],
   "source": [
    "# impute speed on all edges missing data\n",
    "G = ox.add_edge_speeds(G)\n",
    "\n",
    "# calculate travel time (seconds) for all edges\n",
    "G = ox.add_edge_travel_times(G)"
   ]
  },
  {
   "cell_type": "code",
   "execution_count": null,
   "metadata": {},
   "outputs": [],
   "source": [
    "# see mean speed/time values by road type\n",
    "edges = ox.graph_to_gdfs(G, nodes=False)\n",
    "edges['highway'] = edges['highway'].astype(str)\n",
    "edges.groupby('highway')[['length', 'speed_kph', 'travel_time']].mean().round(1)"
   ]
  },
  {
   "cell_type": "code",
   "execution_count": null,
   "metadata": {},
   "outputs": [],
   "source": [
    "# same thing again, but this time pass in a few default speed values (km/hour)\n",
    "# to fill in edges with missing `maxspeed` from OSM\n",
    "hwy_speeds = {'residential': 35,\n",
    "              'secondary': 50,\n",
    "              'tertiary': 60}\n",
    "G = ox.add_edge_speeds(G, hwy_speeds)\n",
    "G = ox.add_edge_travel_times(G)"
   ]
  },
  {
   "cell_type": "code",
   "execution_count": null,
   "metadata": {},
   "outputs": [],
   "source": [
    "# calculate two routes by minimizing travel distance vs travel time\n",
    "orig = list(G)[1]\n",
    "dest = list(G)[120]\n",
    "route1 = ox.shortest_path(G, orig, dest, weight='length')\n",
    "route2 = ox.shortest_path(G, orig, dest, weight='travel_time')"
   ]
  },
  {
   "cell_type": "code",
   "execution_count": null,
   "metadata": {},
   "outputs": [],
   "source": [
    "# plot the routes\n",
    "fig, ax = ox.plot_graph_routes(G, routes=[route1, route2], route_colors=['r', 'y'],\n",
    "                               route_linewidth=6, node_size=0)"
   ]
  },
  {
   "cell_type": "code",
   "execution_count": null,
   "metadata": {},
   "outputs": [],
   "source": [
    "# compare the two routes\n",
    "route1_length = int(sum(ox.utils_graph.get_route_edge_attributes(G, route1, 'length')))\n",
    "route2_length = int(sum(ox.utils_graph.get_route_edge_attributes(G, route2, 'length')))\n",
    "route1_time = int(sum(ox.utils_graph.get_route_edge_attributes(G, route1, 'travel_time')))\n",
    "route2_time = int(sum(ox.utils_graph.get_route_edge_attributes(G, route2, 'travel_time')))\n",
    "print('Route 1 is', route1_length, 'meters and takes', route1_time, 'seconds.')\n",
    "print('Route 2 is', route2_length, 'meters and takes', route2_time, 'seconds.')"
   ]
  },
  {
   "cell_type": "markdown",
   "metadata": {},
   "source": [
    "The yellow route minimizes travel time, and is thus longer but faster than the red route.\n",
    "\n",
    "For more examples of travel time, see the [isochrones example](13-isolines-isochrones.ipynb).\n",
    "\n",
    "For more examples of routing, including using elevation as an impedance, see the [elevations example](12-node-elevations-edge-grades.ipynb)."
   ]
  },
  {
   "cell_type": "markdown",
   "metadata": {},
   "source": [
    "## 4. Multiprocessing\n",
    "\n",
    "Calculating lots of shortest-paths can be slow, but fortunately it's easily parallelized."
   ]
  },
  {
   "cell_type": "code",
   "execution_count": null,
   "metadata": {},
   "outputs": [],
   "source": [
    "n = 100000  # we'll calculate 100,000 shortest-path routes\n",
    "cpus = mp.cpu_count() - 1  # how many CPU cores to utilize (careful with your RAM!)"
   ]
  },
  {
   "cell_type": "code",
   "execution_count": null,
   "metadata": {},
   "outputs": [],
   "source": [
    "def shortest_path(G, orig, dest):\n",
    "    try:\n",
    "        return ox.shortest_path(G, orig, dest, weight='travel_time')\n",
    "    except:\n",
    "        # for unsolvable routes (due to directed graph perimeter effects)\n",
    "        return None"
   ]
  },
  {
   "cell_type": "code",
   "execution_count": null,
   "metadata": {},
   "outputs": [],
   "source": [
    "# create iterable parameters (O-D pairs) for each function run\n",
    "nodes = np.array(G.nodes())\n",
    "origs = np.random.choice(nodes, size=n, replace=True)\n",
    "dests = np.random.choice(nodes, size=n, replace=True)\n",
    "params = ((G, orig, dest) for orig, dest in zip(origs, dests))"
   ]
  },
  {
   "cell_type": "code",
   "execution_count": null,
   "metadata": {},
   "outputs": [],
   "source": [
    "# create a pool of worker processes\n",
    "pool = mp.Pool(cpus)\n",
    "\n",
    "# map the function/parameters to the worker processes\n",
    "sma = pool.starmap_async(shortest_path, params)"
   ]
  },
  {
   "cell_type": "code",
   "execution_count": null,
   "metadata": {},
   "outputs": [],
   "source": [
    "%%time\n",
    "# get the results, close the pool, wait for worker processes to all exit\n",
    "routes = sma.get()\n",
    "pool.close()\n",
    "pool.join()"
   ]
  },
  {
   "cell_type": "code",
   "execution_count": null,
   "metadata": {},
   "outputs": [],
   "source": [
    "# how many total results did we get\n",
    "print(len(routes))\n",
    "\n",
    "# and how many were solvable paths\n",
    "routes_valid = [r for r in routes if r is not None]\n",
    "print(len(routes_valid))"
   ]
  },
  {
   "cell_type": "markdown",
   "metadata": {},
   "source": [
    "## 5. Miscellaneous routing notes"
   ]
  },
  {
   "cell_type": "markdown",
   "metadata": {},
   "source": [
    "The routing correctly handles one-way streets:"
   ]
  },
  {
   "cell_type": "code",
   "execution_count": null,
   "metadata": {},
   "outputs": [],
   "source": [
    "G2 = ox.graph_from_address('N. Sicily Pl., Chandler, Arizona', dist=800, network_type='drive', truncate_by_edge=True)\n",
    "origin = (33.307792, -111.894940)\n",
    "destination = (33.312994, -111.894998)\n",
    "origin_node = ox.get_nearest_node(G2, origin)\n",
    "destination_node = ox.get_nearest_node(G2, destination)\n",
    "route = ox.shortest_path(G2, origin_node, destination_node)\n",
    "fig, ax = ox.plot_graph_route(G2, route, route_color='c', node_size=0)"
   ]
  },
  {
   "cell_type": "markdown",
   "metadata": {},
   "source": [
    "Also, when there are parallel edges between nodes in the route, OSMnx picks the shortest edge to plot:"
   ]
  },
  {
   "cell_type": "code",
   "execution_count": null,
   "metadata": {},
   "outputs": [],
   "source": [
    "location_point = (33.299896, -111.831638)\n",
    "G2 = ox.graph_from_point(location_point, dist=400, truncate_by_edge=True)\n",
    "origin = (33.301821, -111.829871)\n",
    "destination = (33.301402, -111.833108)\n",
    "origin_node = ox.get_nearest_node(G2, origin)\n",
    "destination_node = ox.get_nearest_node(G2, destination)\n",
    "route = ox.shortest_path(G2, origin_node, destination_node)\n",
    "fig, ax = ox.plot_graph_route(G2, route, route_color='c', node_size=0)"
   ]
  },
  {
   "cell_type": "code",
   "execution_count": null,
   "metadata": {},
   "outputs": [],
   "source": []
  }
 ],
 "metadata": {
  "kernelspec": {
   "display_name": "Python (ox)",
   "language": "python",
   "name": "ox"
  },
  "language_info": {
   "codemirror_mode": {
    "name": "ipython",
    "version": 3
   },
   "file_extension": ".py",
   "mimetype": "text/x-python",
   "name": "python",
   "nbconvert_exporter": "python",
   "pygments_lexer": "ipython3",
   "version": "3.9.1"
  }
 },
 "nbformat": 4,
 "nbformat_minor": 4
}
